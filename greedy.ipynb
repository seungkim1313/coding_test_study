{
  "nbformat": 4,
  "nbformat_minor": 0,
  "metadata": {
    "colab": {
      "provenance": [],
      "authorship_tag": "ABX9TyOanBid3aIJ+zDNKAS1HH6u",
      "include_colab_link": true
    },
    "kernelspec": {
      "name": "python3",
      "display_name": "Python 3"
    },
    "language_info": {
      "name": "python"
    }
  },
  "cells": [
    {
      "cell_type": "markdown",
      "metadata": {
        "id": "view-in-github",
        "colab_type": "text"
      },
      "source": [
        "<a href=\"https://colab.research.google.com/github/seungkim1313/coding_test_study/blob/main/greedy.ipynb\" target=\"_parent\"><img src=\"https://colab.research.google.com/assets/colab-badge.svg\" alt=\"Open In Colab\"/></a>"
      ]
    },
    {
      "cell_type": "markdown",
      "source": [
        "###숫자 카드 게임\n",
        "---\n",
        "가장 높은 숫자가 쓰인 카드 한 장을 뽑아야 된다. 하지만 다음과 같은 룰을 지켜야 된다.\n",
        "\n",
        "1. N x M 형태로 놓여있다. N은 행이며, M은 열의 개수다.\n",
        "2. 먼저 행을 선택한다.\n",
        "3. 선택된 행에서 가장 낮은 숫자를 뽑는다.\n",
        "\n",
        "\n",
        "입력 조건:\n",
        "\n",
        "- N은 1 또는 1 보다 크며, M은 100 또는 100보다 작다.\n",
        "- 각 숫자는 자연수이며, 1에서 10,000의 range를 갖고 있다."
      ],
      "metadata": {
        "id": "DxStsd53WfV-"
      }
    },
    {
      "cell_type": "code",
      "execution_count": 2,
      "metadata": {
        "colab": {
          "base_uri": "https://localhost:8080/"
        },
        "id": "creRQA-VWY5G",
        "outputId": "218eb0c9-ccac-4f9f-f6fd-8c1bba80314c"
      },
      "outputs": [
        {
          "output_type": "stream",
          "name": "stdout",
          "text": [
            "3 3\n",
            "3 1 2\n",
            "4 1 4\n",
            "2 2 2 \n",
            "2\n"
          ]
        }
      ],
      "source": [
        "n, m = map(int, input().split())\n",
        "\n",
        "result = 0\n",
        "for i in range(n):\n",
        "  nums = list(map(int, input().split()))\n",
        "  min_val = min(nums)\n",
        "  result = max(result, min_val)\n",
        "\n",
        "print(result)"
      ]
    },
    {
      "cell_type": "code",
      "source": [],
      "metadata": {
        "id": "mLXKKnOIY1uZ"
      },
      "execution_count": null,
      "outputs": []
    }
  ]
}