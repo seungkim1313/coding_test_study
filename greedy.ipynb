{
  "nbformat": 4,
  "nbformat_minor": 0,
  "metadata": {
    "colab": {
      "provenance": [],
      "authorship_tag": "ABX9TyMa6UTL/48Jh/x/v7zWCuum",
      "include_colab_link": true
    },
    "kernelspec": {
      "name": "python3",
      "display_name": "Python 3"
    },
    "language_info": {
      "name": "python"
    }
  },
  "cells": [
    {
      "cell_type": "markdown",
      "metadata": {
        "id": "view-in-github",
        "colab_type": "text"
      },
      "source": [
        "<a href=\"https://colab.research.google.com/github/seungkim1313/coding_test_study/blob/main/greedy.ipynb\" target=\"_parent\"><img src=\"https://colab.research.google.com/assets/colab-badge.svg\" alt=\"Open In Colab\"/></a>"
      ]
    },
    {
      "cell_type": "markdown",
      "source": [
        "###숫자 카드 게임\n",
        "---\n",
        "가장 높은 숫자가 쓰인 카드 한 장을 뽑아야 된다. 하지만 다음과 같은 룰을 지켜야 된다.\n",
        "\n",
        "1. N x M 형태로 놓여있다. N은 행이며, M은 열의 개수다.\n",
        "2. 먼저 행을 선택한다.\n",
        "3. 선택된 행에서 가장 낮은 숫자를 뽑는다.\n",
        "\n",
        "\n",
        "입력 조건:\n",
        "\n",
        "- N은 1 또는 1 보다 크며, M은 100 또는 100보다 작다.\n",
        "- 각 숫자는 자연수이며, 1에서 10,000의 range를 갖고 있다."
      ],
      "metadata": {
        "id": "DxStsd53WfV-"
      }
    },
    {
      "cell_type": "code",
      "execution_count": null,
      "metadata": {
        "colab": {
          "base_uri": "https://localhost:8080/"
        },
        "id": "creRQA-VWY5G",
        "outputId": "218eb0c9-ccac-4f9f-f6fd-8c1bba80314c"
      },
      "outputs": [
        {
          "output_type": "stream",
          "name": "stdout",
          "text": [
            "3 3\n",
            "3 1 2\n",
            "4 1 4\n",
            "2 2 2 \n",
            "2\n"
          ]
        }
      ],
      "source": [
        "n, m = map(int, input().split())\n",
        "\n",
        "result = 0\n",
        "for i in range(n):\n",
        "  nums = list(map(int, input().split()))\n",
        "  min_val = min(nums)\n",
        "  result = max(result, min_val)\n",
        "\n",
        "print(result)"
      ]
    },
    {
      "cell_type": "markdown",
      "source": [
        "### 숫자 카드 게임 해설\n",
        "---\n",
        "쉽게 생각하면 **각 row에서 가장 작은 수를 찾아 저장하고, 그 중에서 가장 큰 수를 찾으면 된다**.\n",
        "\n",
        "`min()`과 `max()`를 적절히 사용하며 되고, 위의 코드가 해당 문제의 답이다.\n",
        "\n",
        "\n"
      ],
      "metadata": {
        "id": "YW32zINVaFKu"
      }
    },
    {
      "cell_type": "markdown",
      "source": [
        "### 1이 될 때까지\n",
        "---\n",
        "어떠한 수 N이 1이 될 때까지 다음의 두 과정 중 하나를 반복적으로 선택하여 수행하려고 한다. 단, 두 번째 연산은 N이 K로 나누어떨어질 때만 선택할 수 있다.\n",
        "1. N에서 1을 뺀다.\n",
        "2. N을 K로 나눈다.\n",
        "\n",
        "N과 K가 주어질 때 N이 1이 될 때까지 1번 혹은 2번의 과정을 수행해야 하는 최소의 횟수를 구하는 프로그램을 작성하시오."
      ],
      "metadata": {
        "id": "LSu_d4otbFRz"
      }
    },
    {
      "cell_type": "code",
      "source": [
        "N, K = map(int, input().split())\n",
        "\n",
        "result = 0\n",
        "while N != 1:\n",
        "  if N % K == 0:\n",
        "    N = N / K\n",
        "    result += 1\n",
        "  else:\n",
        "    N -= 1\n",
        "    result += 1\n",
        "print(result)\n"
      ],
      "metadata": {
        "colab": {
          "base_uri": "https://localhost:8080/"
        },
        "id": "EHtVKe3fcKhv",
        "outputId": "50677e64-bba8-4d0b-88e0-bea9090a7f2e"
      },
      "execution_count": 6,
      "outputs": [
        {
          "output_type": "stream",
          "name": "stdout",
          "text": [
            "25 5\n",
            "2\n"
          ]
        }
      ]
    },
    {
      "cell_type": "code",
      "source": [],
      "metadata": {
        "id": "3rtNsZn6cry0"
      },
      "execution_count": null,
      "outputs": []
    }
  ]
}